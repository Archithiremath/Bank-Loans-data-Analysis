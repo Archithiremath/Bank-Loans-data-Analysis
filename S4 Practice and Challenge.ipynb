{
 "cells": [
  {
   "cell_type": "code",
   "execution_count": 1,
   "id": "4cda51f5",
   "metadata": {},
   "outputs": [
    {
     "name": "stdout",
     "output_type": "stream",
     "text": [
      "Enter the number1\n",
      "factorial of 1 is 1\n"
     ]
    }
   ],
   "source": [
    "n=int(input(\"Enter the number\"))\n",
    "fac=1\n",
    "i=1\n",
    "while i<=n:\n",
    "    fac=fac*i\n",
    "    i+=1\n",
    "print(\"factorial of\",n,\"is\",fac)"
   ]
  },
  {
   "cell_type": "code",
   "execution_count": 2,
   "id": "ca783fdc",
   "metadata": {},
   "outputs": [
    {
     "name": "stdout",
     "output_type": "stream",
     "text": [
      "the prime numbers are : 2\n",
      "the prime numbers are : 3\n",
      "the prime numbers are : 5\n",
      "the prime numbers are : 7\n",
      "the prime numbers are : 11\n",
      "the prime numbers are : 13\n",
      "the prime numbers are : 17\n",
      "the prime numbers are : 19\n"
     ]
    }
   ],
   "source": [
    "c=0\n",
    "i=1\n",
    "while(i<=20):\n",
    "    j=1\n",
    "    while j<i:\n",
    "        if i%j==0:\n",
    "            c+=1\n",
    "        j+=1\n",
    "    if c==1:\n",
    "        print(\"the prime numbers are :\",i)\n",
    "    c=0\n",
    "    i+=1"
   ]
  },
  {
   "cell_type": "code",
   "execution_count": 3,
   "id": "07e11871",
   "metadata": {},
   "outputs": [
    {
     "name": "stdout",
     "output_type": "stream",
     "text": [
      "enter the number12345\n",
      "sum of digits: 15\n"
     ]
    }
   ],
   "source": [
    "number=int(input(\"enter the number\"))\n",
    "sum=0\n",
    "while number>0:\n",
    "    sum+=number%10\n",
    "    number=int(number/10)\n",
    "print(\"sum of digits:\",sum)"
   ]
  },
  {
   "cell_type": "code",
   "execution_count": 4,
   "id": "a1ba956a",
   "metadata": {},
   "outputs": [
    {
     "name": "stdout",
     "output_type": "stream",
     "text": [
      "enter the number21\n",
      "1  2  3  5  8  13  "
     ]
    }
   ],
   "source": [
    "number=int(input(\"enter the number\"))\n",
    "a=1\n",
    "b=2\n",
    "c=0\n",
    "while c<=number:\n",
    "     print(a,end='  ')\n",
    "     c=a+b\n",
    "     a=b\n",
    "     b=c"
   ]
  },
  {
   "cell_type": "code",
   "execution_count": 7,
   "id": "a5b84dee",
   "metadata": {},
   "outputs": [
    {
     "name": "stdout",
     "output_type": "stream",
     "text": [
      "[(1, 6), (2, 7), (3, 8), (4, 9), (5, 10)]\n"
     ]
    },
    {
     "ename": "TypeError",
     "evalue": "'int' object is not callable",
     "output_type": "error",
     "traceback": [
      "\u001b[1;31m---------------------------------------------------------------------------\u001b[0m",
      "\u001b[1;31mTypeError\u001b[0m                                 Traceback (most recent call last)",
      "Input \u001b[1;32mIn [7]\u001b[0m, in \u001b[0;36m<cell line: 4>\u001b[1;34m()\u001b[0m\n\u001b[0;32m      2\u001b[0m t2\u001b[38;5;241m=\u001b[39m(\u001b[38;5;241m6\u001b[39m,\u001b[38;5;241m7\u001b[39m,\u001b[38;5;241m8\u001b[39m,\u001b[38;5;241m9\u001b[39m,\u001b[38;5;241m10\u001b[39m)\n\u001b[0;32m      3\u001b[0m \u001b[38;5;28mprint\u001b[39m(\u001b[38;5;28mlist\u001b[39m(\u001b[38;5;28mzip\u001b[39m(t1,t2)))\n\u001b[1;32m----> 4\u001b[0m result\u001b[38;5;241m=\u001b[39m[\u001b[38;5;28msum\u001b[39m(tup) \u001b[38;5;28;01mfor\u001b[39;00m tup \u001b[38;5;129;01min\u001b[39;00m \u001b[38;5;28mzip\u001b[39m(t1,t2)]\n\u001b[0;32m      5\u001b[0m \u001b[38;5;28mprint\u001b[39m(result)\n",
      "Input \u001b[1;32mIn [7]\u001b[0m, in \u001b[0;36m<listcomp>\u001b[1;34m(.0)\u001b[0m\n\u001b[0;32m      2\u001b[0m t2\u001b[38;5;241m=\u001b[39m(\u001b[38;5;241m6\u001b[39m,\u001b[38;5;241m7\u001b[39m,\u001b[38;5;241m8\u001b[39m,\u001b[38;5;241m9\u001b[39m,\u001b[38;5;241m10\u001b[39m)\n\u001b[0;32m      3\u001b[0m \u001b[38;5;28mprint\u001b[39m(\u001b[38;5;28mlist\u001b[39m(\u001b[38;5;28mzip\u001b[39m(t1,t2)))\n\u001b[1;32m----> 4\u001b[0m result\u001b[38;5;241m=\u001b[39m[\u001b[38;5;28;43msum\u001b[39;49m\u001b[43m(\u001b[49m\u001b[43mtup\u001b[49m\u001b[43m)\u001b[49m \u001b[38;5;28;01mfor\u001b[39;00m tup \u001b[38;5;129;01min\u001b[39;00m \u001b[38;5;28mzip\u001b[39m(t1,t2)]\n\u001b[0;32m      5\u001b[0m \u001b[38;5;28mprint\u001b[39m(result)\n",
      "\u001b[1;31mTypeError\u001b[0m: 'int' object is not callable"
     ]
    }
   ],
   "source": [
    "t1=(1,2,3,4,5)\n",
    "t2=(6,7,8,9,10)\n",
    "print(list(zip(t1,t2)))\n",
    "result=[sum(tup) for tup in zip(t1,t2)]\n",
    "print(result)"
   ]
  },
  {
   "cell_type": "code",
   "execution_count": 8,
   "id": "f6912766",
   "metadata": {},
   "outputs": [
    {
     "name": "stdout",
     "output_type": "stream",
     "text": [
      "id of t1 is: 1799224243360\n",
      "id of t2 is: 1799224245200\n",
      "id after operation of t1 and t2: 1799224307264 , 1799224245200\n"
     ]
    }
   ],
   "source": [
    "t1=(1,2,3,4,5)\n",
    "t2=(6,7,8,9,10)\n",
    "print(\"id of t1 is:\",id(t1))\n",
    "print(\"id of t2 is:\",id(t2))\n",
    "t1=t1+t2\n",
    "print(\"id after operation of t1 and t2:\",id(t1),',',id(t2))"
   ]
  },
  {
   "cell_type": "code",
   "execution_count": 9,
   "id": "456b2cdc",
   "metadata": {},
   "outputs": [
    {
     "data": {
      "text/plain": [
       "{10, 20, 30, 40, 50, 60, 70}"
      ]
     },
     "execution_count": 9,
     "metadata": {},
     "output_type": "execute_result"
    }
   ],
   "source": [
    "m={10,20,30,40,50}\n",
    "n={30,40,50,60,70}\n",
    "m.update(n)\n",
    "m         "
   ]
  },
  {
   "cell_type": "code",
   "execution_count": 10,
   "id": "3ea7e1ac",
   "metadata": {},
   "outputs": [
    {
     "name": "stdout",
     "output_type": "stream",
     "text": [
      "1\n",
      "2\n",
      "3\n",
      "4\n"
     ]
    },
    {
     "ename": "StopIteration",
     "evalue": "",
     "output_type": "error",
     "traceback": [
      "\u001b[1;31m---------------------------------------------------------------------------\u001b[0m",
      "\u001b[1;31mStopIteration\u001b[0m                             Traceback (most recent call last)",
      "Input \u001b[1;32mIn [10]\u001b[0m, in \u001b[0;36m<cell line: 6>\u001b[1;34m()\u001b[0m\n\u001b[0;32m      4\u001b[0m var\u001b[38;5;241m=\u001b[39m\u001b[38;5;28miter\u001b[39m(value)\n\u001b[0;32m      5\u001b[0m \u001b[38;5;28;01mwhile\u001b[39;00m \u001b[38;5;28;01mTrue\u001b[39;00m:\n\u001b[1;32m----> 6\u001b[0m     \u001b[38;5;28mprint\u001b[39m(\u001b[38;5;28;43mnext\u001b[39;49m\u001b[43m(\u001b[49m\u001b[43mvar\u001b[49m\u001b[43m)\u001b[49m)\n",
      "\u001b[1;31mStopIteration\u001b[0m: "
     ]
    }
   ],
   "source": [
    "port1={'FTP':1,'SSH':2,'telnet':3,'HTTP':4}\n",
    "i=1\n",
    "value=port1.values()\n",
    "var=iter(value)\n",
    "while True:\n",
    "    print(next(var))"
   ]
  },
  {
   "cell_type": "code",
   "execution_count": 11,
   "id": "5a90e97e",
   "metadata": {},
   "outputs": [
    {
     "name": "stdout",
     "output_type": "stream",
     "text": [
      "{1: 1, 2: 4, 3: 9, 4: 16, 5: 25, 6: 36, 7: 49, 8: 64, 9: 81, 10: 100, 11: 121, 12: 144, 13: 169, 14: 196, 15: 225, 100: 10000}\n"
     ]
    }
   ],
   "source": [
    "d=dict()\n",
    "for x in range(1,16):\n",
    "    d[x]=x**2\n",
    "d.update({100:10000}) \n",
    "print(d)"
   ]
  },
  {
   "cell_type": "code",
   "execution_count": 12,
   "id": "36f4e1e3",
   "metadata": {},
   "outputs": [
    {
     "name": "stdout",
     "output_type": "stream",
     "text": [
      "{'FTP': 21, 'SSH': 22, 'telnet': 23, 'HTTP': 80}\n"
     ]
    }
   ],
   "source": [
    "port1={21:'FTP',22:'SSH',23:'telnet',80:'HTTP'}\n",
    "port2={value:key for key, value in port1.items()}\n",
    "print(port2)"
   ]
  },
  {
   "cell_type": "code",
   "execution_count": 13,
   "id": "924e4767",
   "metadata": {},
   "outputs": [
    {
     "data": {
      "text/plain": [
       "('Emp4',\n",
       " {'name': 'Andy',\n",
       "  'Dept': 'BioTech',\n",
       "  'Designation': 'Senior Software Engineer'})"
      ]
     },
     "execution_count": 13,
     "metadata": {},
     "output_type": "execute_result"
    }
   ],
   "source": [
    "Employee ={'Emp1':{'name':'Sara','Dept':'IT','Designation':'TeamLead'},\n",
    "'Emp2':{'name':'Anna','Dept':'T','Designation':'Senior Software Engineer'},\n",
    "'Emp3':{'name':'Andy','Dept':'BioTech','Designation':'Senior Software Engineer'},\n",
    "'Emp4': {'name':'Andy','Dept':'BioTech','Designation':'Senior Software Engineer'}\n",
    "}\n",
    "Employee.popitem()"
   ]
  },
  {
   "cell_type": "code",
   "execution_count": 14,
   "id": "d045ef02",
   "metadata": {},
   "outputs": [
    {
     "name": "stdout",
     "output_type": "stream",
     "text": [
      "{'Emp1': {'name': 'Sara', 'Dept': 'IT', 'Designation': 'TeamLead'}, 'Emp2': {'name': 'Anna', 'Dept': 'T', 'Designation': 'Senior Software Engineer'}, 'Emp3': {'name': 'Andy', 'Dept': 'BioTech', 'Designation': 'Senior Software Engineer'}}\n"
     ]
    }
   ],
   "source": [
    "print(Employee)"
   ]
  },
  {
   "cell_type": "code",
   "execution_count": 15,
   "id": "a67e8438",
   "metadata": {},
   "outputs": [],
   "source": [
    "Employee ={'Emp1':{'name':'Sara','Dept':'IT','Designation':'TeamLead'},\n",
    "'Emp2':{'name':'Anna','Dept':'T','Designation':'Senior Software Engineer'},\n",
    "'Emp3':{'name':'Andy','Dept':'BioTech','Designation':'Senior Software Engineer'},\n",
    "'Emp4': {'name':'Andy','Dept':'BioTech','Designation':'Senior Software Engineer'}\n",
    "}"
   ]
  },
  {
   "cell_type": "code",
   "execution_count": 16,
   "id": "3c2af1d0",
   "metadata": {},
   "outputs": [
    {
     "name": "stdout",
     "output_type": "stream",
     "text": [
      "{'Emp1': {'name': 'Sara', 'Dept': 'IT', 'Designation': 'TeamLead'}, 'Emp2': {'name': 'Anna', 'Dept': 'T', 'Designation': 'Senior Software Engineer'}, 'Emp3': {'name': 'Andy', 'Dept': 'BioTech', 'Designation': 'Senior Software Engineer'}}\n"
     ]
    }
   ],
   "source": [
    "res=dict()\n",
    "temp=[]\n",
    "for key,val in Employee.items():\n",
    "    if val not in temp:\n",
    "        temp.append(val)\n",
    "        res[key]=val\n",
    "print(res)"
   ]
  },
  {
   "cell_type": "code",
   "execution_count": 1,
   "id": "8bb291db",
   "metadata": {},
   "outputs": [
    {
     "name": "stdout",
     "output_type": "stream",
     "text": [
      "1.What is the maximum length of a Python identifier?:a)32 b)16 c)128 d)Nofixed length is specified\n",
      "ans :d\n",
      "Correct\n",
      "2.What will be the output of the following code snippet? print(2**3 + (5 + 6)**(1 + 1))]:a)129 b)8 c)121 d)None of the above\n",
      "ans :a\n",
      "Correct\n",
      "3.What will be the datatype of the var in the below code snippet? var = 10 print(type(var)) var = Hello print(type(var)):a)str and int b)int and int c)str and strd)int and str\n",
      "ans :d\n",
      "Correct\n",
      "4. How is a code block indicated in Python?:a)brackets b)indetation c)key d)None of the above\n",
      "ans :b\n",
      "Correct\n",
      "5.What will be the output of the following code snippet? a = [1, 2, 3] a = tuple(a) a[0] = 2 print(a):a)[2,2,3] b)(2,2,3) c)(1,2,3) d)Error\n",
      "ans :d\n",
      "Correct\n",
      "6. What will be the output of the following code snippet? print(type(5 / 2)) print(type(5 // 2)):a)float and int b)int and float c)float and float d)int and int\n",
      "ans :a\n",
      "Correct\n",
      "7.What will be the output of the following code snippet? a = [1, 2, 3, 4, 5] sum = 0 for ele in a: sum += ele print(sum):a)15 b)0 c)20 d)None of These\n",
      "ans :a\n",
      "Correct\n",
      "8.What will be the output of the following code snippet? count = 0 while(True): if count % 3 == 0: print(count, end = ) if(count > 15): break; count += 1:a)0 1 2.....15 b)infinite loop c)0 3 6 9 12 15 d)0 3 6 9 12\n",
      "ans :c\n",
      "Correct\n",
      "9.Which of the following concepts is not a part of Python?:a)pointers b)loop c)dynamic timing d)All of The Above\n",
      "ans :a\n",
      "Correct\n",
      "10.What will be the output of the following code snippet? def solve(a, b): return b if a == 0 else solve(b % a, a) print(solve(20, 50)):a)10 b)20 c)50 d)1\n",
      "ans :a\n",
      "Correct\n",
      "final score = 10\n",
      "{1: 'd', 2: 'a', 3: 'd', 4: 'b', 5: 'd', 6: 'a', 7: 'a', 8: 'c', 9: 'a', 10: 'a'}\n"
     ]
    }
   ],
   "source": [
    "Question=[\"1.What is the maximum length of a Python identifier?:a)32 b)16 c)128 d)Nofixed length is specified\",\n",
    "         \"2.What will be the output of the following code snippet? print(2**3 + (5 + 6)**(1 + 1))]:a)129 b)8 c)121 d)None of the above\",\n",
    "        \"3.What will be the datatype of the var in the below code snippet? var = 10 print(type(var)) var = Hello print(type(var)):a)str and int b)int and int c)str and strd)int and str\",\n",
    "        \"4. How is a code block indicated in Python?:a)brackets b)indetation c)key d)None of the above\",\n",
    "        \"5.What will be the output of the following code snippet? a = [1, 2, 3] a = tuple(a) a[0] = 2 print(a):a)[2,2,3] b)(2,2,3) c)(1,2,3) d)Error\",\n",
    "        \"6. What will be the output of the following code snippet? print(type(5 / 2)) print(type(5 // 2)):a)float and int b)int and float c)float and float d)int and int\",\n",
    "        \"7.What will be the output of the following code snippet? a = [1, 2, 3, 4, 5] sum = 0 for ele in a: sum += ele print(sum):a)15 b)0 c)20 d)None of These\",\n",
    "        \"8.What will be the output of the following code snippet? count = 0 while(True): if count % 3 == 0: print(count, end = \" \") if(count > 15): break; count += 1:a)0 1 2.....15 b)infinite loop c)0 3 6 9 12 15 d)0 3 6 9 12\",\n",
    "        \"9.Which of the following concepts is not a part of Python?:a)pointers b)loop c)dynamic timing d)All of The Above\",\n",
    "        \"10.What will be the output of the following code snippet? def solve(a, b): return b if a == 0 else solve(b % a, a) print(solve(20, 50)):a)10 b)20 c)50 d)1\"]\n",
    "Answer=['d','a','d','b','d','a','a','c','a','a'] #list of answers\n",
    "Total_Marks=0\n",
    "answer_sheet={}\n",
    "for i in range(10):\n",
    "    answer_sheet.update({i+1:Answer[i]})#answer sheet\n",
    "    print(Question[i])#print que\n",
    "    a=input('ans :')\n",
    "    if a==Answer[i]:#check answer is correct\n",
    "        print(\"Correct\")\n",
    "        Total_Marks=Total_Marks+1\n",
    "    else:\n",
    "        print(\"wrong\")\n",
    "print('final score =',Total_Marks)\n",
    "\n",
    "print(answer_sheet)"
   ]
  },
  {
   "cell_type": "code",
   "execution_count": null,
   "id": "f42bb841",
   "metadata": {},
   "outputs": [],
   "source": []
  }
 ],
 "metadata": {
  "kernelspec": {
   "display_name": "Python 3 (ipykernel)",
   "language": "python",
   "name": "python3"
  },
  "language_info": {
   "codemirror_mode": {
    "name": "ipython",
    "version": 3
   },
   "file_extension": ".py",
   "mimetype": "text/x-python",
   "name": "python",
   "nbconvert_exporter": "python",
   "pygments_lexer": "ipython3",
   "version": "3.9.12"
  }
 },
 "nbformat": 4,
 "nbformat_minor": 5
}
